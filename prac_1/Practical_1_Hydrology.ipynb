{
  "nbformat": 4,
  "nbformat_minor": 0,
  "metadata": {
    "colab": {
      "provenance": []
    },
    "kernelspec": {
      "name": "python3",
      "display_name": "Python 3"
    },
    "language_info": {
      "name": "python"
    }
  },
  "cells": [
    {
      "cell_type": "markdown",
      "source": [
        "# Practical 1: Hydrology\n",
        "\n",
        "## What is this notebook?\n",
        "\n",
        "This notebook illustrates the importance of rainfall intensity and duration on the characteristics of hydrographs, along with the role of infiltration. Remember that hydrographs are one of the main ways we can assess fluvial flooding and then think about catchment management.\n",
        "\n",
        "We will use free, open-source modelling software called [LandLab](http://landlab.github.io/) to simulate overland flow and infiltration. Note we are not simulating the existing flow in the river; just the run-off.\n",
        "\n",
        "For those that went on the rivers field trip we discussed why run-off is important in Forge Valley, so here we're going to use Forge Valley to test some of the ideas we discussed on the trip and the recorded lectures. For those that went to the coast, the recorded lectures contain everything you need to know, but feel free to chat to someone who did go to Forge Valley for why run-off is partcilarly importnat here.\n",
        "\n",
        "## What the model simulates\n",
        "\n",
        "The model is a simplified shallow water equation solver that models water flowing downhill. The base equaiton solved is:\n",
        "\n",
        "\\begin{equation}\n",
        "\\frac{\\partial H}{\\partial t} = (P - I) - \\nabla\\cdot\\mathbf{q}\n",
        "\\end{equation}\n",
        "\n",
        "What this equation says is that the water depth, $H$, changes through time, $t$, by the precipitation rate, $P$, infiltration rate, $I$ and the water discharge, $\\mathbf{q}$, comining in and out of each grid cell. The upsidedown triangle, $\\nabla$ means take the gradient in space $(x,y)$. $\\mathbf{q}$ is calculated using:\n",
        "\n",
        "\\begin{equation}\n",
        "\\mathbf{q} = \\frac{H^{4/3}}{n^2 U_c} \\nabla w\n",
        "\\end{equation}\n",
        "\n",
        "Where $n$ is the Manning's drag coefficient, $U_c$ is a velocity scale (here 1 m/s) and $w$ is the water surface elevation (height of the land + $H$). Finally, $I$ is calculated using:\n",
        "\n",
        "\\begin{equation}\n",
        "I = I_c \\left( 1 - e^{-H / H_i} ) \\right)\n",
        "\\end{equation}\n",
        "\n",
        "so that we only infiltrate water when there is some surface water and these smoothly trends to 0 infiltration when there is no water on the surface. $H_i$ is a characteristic water depth (here 0.1 mm) to make sure the model is stable with very small amounts of water.\n",
        "\n",
        "## What we are going to do\n",
        "\n",
        "We are going to simulate the central section of Forge Valley in the North York Moors and see what happens during a brief, intense storm. We will then alter the infiltration rate, drag coefficient and storm intensity and duration to see how the run-off hydrology is affected by the environment.\n",
        "\n",
        "No infiltration is like having hard surfaces (tarmac) or baked soil (e.g. after a wildfire). Low infiltration acts like the soil is already getting to capacity. Manning's drag alters the land surface characteristics.\n",
        "\n",
        "The practical is in two parts. The first runs the base model with no infiltration. The second allows you to edit parameters and re-run, comparing to the original model. It's worth creating a google docs or similar to copy and paste images and make notes.\n",
        "\n",
        "Start at the top by reading each block of text and sequentially running each code block (click the little \"play\" symbol on the left of a block of code).\n",
        "\n",
        "If you just change one code block and rerun only that code block, only the parts of the code in that code block will be updated. For example, if you change parameters but don't reset the code blocks that initialize run time or topography, then these values will not be reset.\n",
        "\n",
        "**What to do..**\n",
        "\n",
        "Run each block of code once until you get to the text that says **stop here**. Then stop, and read the instrucitons carefullly! Make sure there are no errors. Ask for help if things don't work.\n",
        "\n",
        "\n",
        "\n"
      ],
      "metadata": {
        "id": "nfb298LmL448"
      }
    },
    {
      "cell_type": "code",
      "source": [
        "# this code install landlab and necessary things. You only need to do this once.\n",
        "!pip install landlab\n",
        "!git clone https://github.com/jhill1/hydrological_coastal_processes.git"
      ],
      "metadata": {
        "id": "VH_vzdNaMGpK"
      },
      "execution_count": null,
      "outputs": []
    },
    {
      "cell_type": "markdown",
      "source": [
        "From this point each block of code is numbered using the comment: `# Code Block 1` or similar. The `#` symbol is a comment, so is not run in the code. Some comments will also tell you what the code is doing, if you're interested. The instructions below refer to these `Code Block` numbers."
      ],
      "metadata": {
        "id": "p98-66DB2Y7q"
      }
    },
    {
      "cell_type": "code",
      "execution_count": null,
      "metadata": {
        "id": "1MKUXl83Kr5T"
      },
      "outputs": [],
      "source": [
        "# Code Block 1\n",
        "from landlab import RasterModelGrid, imshow_grid\n",
        "from landlab.components.overland_flow import LinearDiffusionOverlandFlowRouter\n",
        "from landlab.io import read_esri_ascii\n",
        "import numpy as np\n",
        "from matplotlib import pyplot as plt\n",
        "\n",
        "#below is to make plots show up in the notebook\n",
        "%matplotlib inline"
      ]
    },
    {
      "cell_type": "code",
      "source": [
        "# Code Block 3\n",
        "\n",
        "(demgrid, demelev) = read_esri_ascii(\n",
        "    \"/content/hydrological_coastal_processes/prac_1/FV_10m_DEM_filled_sml.asc\",\n",
        "    name=\"topographic__elevation\"\n",
        ")\n",
        "# Create Landlab model grid and assign the DEM elevations to it,\n",
        "# then display the terrain.\n",
        "# (note: DEM horizontal and vertical units are meters)\n",
        "grid = RasterModelGrid(\n",
        "    (demgrid.number_of_node_rows, demgrid.number_of_node_columns), xy_spacing=demgrid.dx\n",
        ")\n",
        "elev = grid.add_zeros(\"topographic__elevation\", at=\"node\")\n",
        "elev[:] = demelev\n",
        "imshow_grid(grid, elev, colorbar_label=\"Elevation (m)\")\n",
        "scaling = 3600*1000"
      ],
      "metadata": {
        "id": "uwfCjzlARE3T"
      },
      "execution_count": null,
      "outputs": []
    },
    {
      "cell_type": "code",
      "source": [
        "# Code Block 4\n",
        "\n",
        "# Process parameters\n",
        "n = 0.025  # roughness coefficient, (s/m^(1/3))\n",
        "uc = 1.0  # characteristic velocity scale (m/s)\n",
        "R1 = 72.0 # Initial rainfall (storm event) mm/hr\n",
        "R2 = 0.0  # Rainfall after event mm/hr\n",
        "infilt_cap = 0  # infiltration capacity, mm/hr\n",
        "\n",
        "# scale parameters to m/s\n",
        "R1 = R1 / scaling\n",
        "R2 = R2 / scaling\n",
        "infilt_cap = infilt_cap / scaling\n",
        "\n",
        "# Run-control parameters\n",
        "heavy_rain_duration = 300.0  # duration of heavy rainfall, s\n",
        "run_time = 3600.0  # duration of run, s\n",
        "dt = 10.0  # time-step size, s\n",
        "\n",
        "# Derived parameters\n",
        "num_steps = int(run_time / dt)\n",
        "\n",
        "# set up arrays to hold discharge, time, and rain rate\n",
        "time_since_storm_start = np.linspace(0.0, run_time, num_steps + 1)\n",
        "discharge = np.zeros(num_steps + 1)\n",
        "rain_rate = np.zeros(num_steps + 1)\n",
        "rain_rate[:] = R1\n",
        "rain_rate[time_since_storm_start >= heavy_rain_duration] = R2\n",
        "\n",
        "# plot the rainfall\n",
        "plt.plot(time_since_storm_start / 60.0, rain_rate * scaling)\n",
        "plt.xlabel(\"Time (min)\")\n",
        "plt.ylabel(\"Rainfall (mm/hr)\")\n",
        "plt.grid(True)\n",
        "\n",
        "params_message = \"R1: {r1}, R2: {r2}, Infiltration: {ic}, n: {n}\".format(r1=R1*scaling, r2=R2*scaling, ic=infilt_cap*scaling, n=n)"
      ],
      "metadata": {
        "id": "iCC8xdEqbXBT"
      },
      "execution_count": null,
      "outputs": []
    },
    {
      "cell_type": "code",
      "source": [
        "# Code Block 5\n",
        "\n",
        "# Configure the boundaries: valid bottom-edge nodes will be open;\n",
        "grid.status_at_node[grid.nodes_at_bottom_edge] = grid.BC_NODE_IS_FIXED_VALUE\n",
        "grid.status_at_node[np.isclose(elev, -9999.0)] = grid.BC_NODE_IS_CLOSED\n",
        "indices = np.where(elev[grid.nodes_at_bottom_edge] > 0.0)[0]\n",
        "outlet_nodes = grid.nodes_at_bottom_edge[indices]\n",
        "links_at_outlets = grid.links_at_node[outlet_nodes]\n",
        "links_to_track = links_at_outlets[\n",
        "    grid.status_at_link[links_at_outlets] == grid.BC_LINK_IS_ACTIVE\n",
        "].flatten()"
      ],
      "metadata": {
        "id": "-mcsV55gbuVl"
      },
      "execution_count": null,
      "outputs": []
    },
    {
      "cell_type": "code",
      "source": [
        "# Code Block 6\n",
        "\n",
        "# Instantiate the component\n",
        "olflow = LinearDiffusionOverlandFlowRouter(\n",
        "    grid, rain_rate=R1, infilt_rate=infilt_cap, roughness=n, velocity_scale=1.0, cfl_factor = 0.75\n",
        ")\n"
      ],
      "metadata": {
        "id": "u3tKlyXgb169"
      },
      "execution_count": null,
      "outputs": []
    },
    {
      "cell_type": "code",
      "source": [
        "# Code Block 7\n",
        "\n",
        "# clear everything and start running the simulation.\n",
        "q = grid.at_link[\"water__specific_discharge\"]\n",
        "grid.at_node[\"surface_water__depth\"][:] =  0.0\n",
        "water_after_storm = grid.at_node[\"surface_water__depth\"]\n",
        "\n",
        "for i in range(num_steps):\n",
        "    t = i * dt\n",
        "    print(\"Time: \", t)\n",
        "    olflow.rain_rate = rain_rate[i]\n",
        "    olflow.run_one_step(dt)\n",
        "    discharge[i + 1] = np.sum(np.abs(q[links_to_track])) * grid.dx\n",
        "    if (t < heavy_rain_duration):\n",
        "      water_after_storm =  np.copy(grid.at_node['surface_water__depth'])"
      ],
      "metadata": {
        "id": "XwSk2RPzca2N"
      },
      "execution_count": null,
      "outputs": []
    },
    {
      "cell_type": "code",
      "source": [
        "# Code Block 8\n",
        "\n",
        "plt.plot(time_since_storm_start / 60.0, discharge)\n",
        "plt.title(\"Discharge: \"+params_message)\n",
        "plt.xlabel(\"Time (min)\")\n",
        "plt.ylabel(\"Discharge (cms)\")\n",
        "plt.grid(True)"
      ],
      "metadata": {
        "id": "oflQQvKUcmsG"
      },
      "execution_count": null,
      "outputs": []
    },
    {
      "cell_type": "code",
      "source": [
        "# Code Block 9\n",
        "\n",
        "fig = plt.figure()\n",
        "fig.tight_layout()\n",
        "fig.suptitle('Surface water depth: '+ params_message)\n",
        "fig.add_subplot(131)\n",
        "imshow_grid(grid, water_after_storm, plot_name=\"At end of storm\", cmap='Blues', vmax=0.75)\n",
        "fig.add_subplot(132)\n",
        "imshow_grid(grid, grid.at_node['surface_water__depth'], plot_name=\"At end of simulation\", cmap='Blues', vmax=0.75)\n",
        "fig.add_subplot(133)\n",
        "plt.subplots_adjust(right=1.75)\n",
        "imshow_grid(grid, grid.at_node['surface_water__depth']-water_after_storm, plot_name=\"Difference\", cmap='seismic', symmetric_cbar=True)\n",
        "\n"
      ],
      "metadata": {
        "id": "tAgGfDzsBtSA"
      },
      "execution_count": null,
      "outputs": []
    },
    {
      "cell_type": "code",
      "source": [
        "# Code Block 10\n",
        "\n",
        "# store everything for comparison later\n",
        "water_after_storm_orig = water_after_storm\n",
        "water_after_hour = np.copy(grid.at_node['surface_water__depth'])\n",
        "discharge_orig = discharge"
      ],
      "metadata": {
        "id": "Q4bZ5nfoBMFC"
      },
      "execution_count": null,
      "outputs": []
    },
    {
      "cell_type": "markdown",
      "source": [
        "**STOP HERE**\n",
        "\n",
        "At this point you have a simulation that takes the basic DEM (topographic data) and simulates a heavy rainfall for 300 seconds (5 minutes) and then no rain to the end of the simulation (1 hour).\n",
        "\n",
        "The simulation siomulates the flow of water overland, but we haven't added an infiltration into the soil (i.e. the land is completely impermeable). We also have a very low drag coefficient (equivalent to \"clean sand\" everywhere). For those on the rivers field trip a few weeks ago, does this sound realsitic?\n",
        "\n",
        "Have a think about these questions and write down some answers:\n",
        "\n",
        "1. Will the amount of surface water and discharge increase or decrease when infiltration rate is added to the model?\n",
        "2. If the drag coefficient (Manning's) is increased, will that increase the discharge? How does increasing the drag coefficient interact with increased infilatration rate?\n",
        "3. Does the intensity (amount and duration) of the rain matter?\n",
        "\n",
        "\n",
        "Now edit some of the parameters (one at a time to start with!). Things to try are:\n",
        "* mannings, `n`, (Original value: 0.025. Try 0.1 and 0.01)\n",
        "* infiltration rate, `infilt_cap` (Original value: 0. Try 10 and 30 mm/hr)\n",
        "* storm intensity, `R1` (Original value: 72 mm/hr. Try 10 and 30 mm/hr)\n",
        "* add rain after storm, `R2`, (Original value: 0 mm/hr. Try  5 mm/hr)\n",
        "\n",
        "You don't have to try all combinations! Some ideas are below.\n",
        "\n",
        "**NOTE:** For the rest of the questions you should use Code Blocks 11-14. These will allow you to use compare the results from the original run.\n",
        "\n",
        "For each part below, run code blocks 11-14 after editing the relevant parameters to answer the questions above.\n",
        "\n",
        "**Final Reflection**. Was your initial insight into how parameters would effect the landscape correct?\n",
        "\n",
        "How do we change the drag coefficient and infiltration rate in reality? How does this effect management of catchments?"
      ],
      "metadata": {
        "id": "jub_hCPGBP0Z"
      }
    },
    {
      "cell_type": "code",
      "source": [
        "# Code Block 11\n",
        "\n",
        "# Process parameters\n",
        "n = 0.025  # roughness coefficient, (s/m^(1/3))\n",
        "uc = 1.0  # characteristic velocity scale (m/s)\n",
        "R1 = 72.0 # Initial rainfall (storm event) mm/hr\n",
        "R2 = 0.0  # Rainfall after event mm/hr\n",
        "infilt_cap = 10  # infiltration capacity, mm/hr\n",
        "\n",
        "# scale parameters to m/s\n",
        "R1 = R1 / scaling\n",
        "R2 = R2 / scaling\n",
        "infilt_cap = infilt_cap / scaling\n",
        "\n",
        "# Run-control parameters\n",
        "heavy_rain_duration = 300.0  # duration of heavy rainfall, s\n",
        "run_time = 3600.0  # duration of run, s\n",
        "dt = 10.0  # time-step size, s\n",
        "\n",
        "# Derived parameters\n",
        "num_steps = int(run_time / dt)\n",
        "\n",
        "# set up arrays to hold discharge, time, and rain rate\n",
        "time_since_storm_start = np.linspace(0.0, run_time, num_steps + 1)\n",
        "discharge = np.zeros(num_steps + 1)\n",
        "rain_rate = np.zeros(num_steps + 1)\n",
        "rain_rate[:] = R1\n",
        "rain_rate[time_since_storm_start >= heavy_rain_duration] = R2\n",
        "\n",
        "# plot the rainfall\n",
        "plt.plot(time_since_storm_start / 60.0, rain_rate * scaling)\n",
        "plt.xlabel(\"Time (min)\")\n",
        "plt.ylabel(\"Rainfall (mm/hr)\")\n",
        "plt.grid(True)\n",
        "\n",
        "params_message = \"R1: {r1}, R2: {r2}, Infiltration: {ic}, n: {n}\".format(r1=R1*scaling, r2=R2*scaling, ic=infilt_cap*scaling, n=n)\n",
        "\n",
        "# Instantiate the component\n",
        "olflow = LinearDiffusionOverlandFlowRouter(\n",
        "    grid, rain_rate=R1, infilt_rate=infilt_cap, roughness=n, velocity_scale=1.0, cfl_factor = 0.75\n",
        ")\n"
      ],
      "metadata": {
        "id": "kgxZ70Q1BacK"
      },
      "execution_count": null,
      "outputs": []
    },
    {
      "cell_type": "code",
      "source": [
        "# Code Block 12\n",
        "\n",
        "# run sim block\n",
        "q = grid.at_link[\"water__specific_discharge\"]\n",
        "grid.at_node[\"surface_water__depth\"][:] =  0.0\n",
        "water_after_storm = grid.at_node[\"surface_water__depth\"]\n",
        "\n",
        "for i in range(num_steps):\n",
        "    t = i * dt\n",
        "    print(\"Time: \", t)\n",
        "    olflow.rain_rate = rain_rate[i]\n",
        "    olflow.run_one_step(dt)\n",
        "    discharge[i + 1] = np.sum(np.abs(q[links_to_track])) * grid.dx\n",
        "    if (t < heavy_rain_duration):\n",
        "      water_after_storm =  np.copy(grid.at_node['surface_water__depth'])"
      ],
      "metadata": {
        "id": "Kq0TSmXmBiO3"
      },
      "execution_count": null,
      "outputs": []
    },
    {
      "cell_type": "code",
      "source": [
        "# Code Block 13\n",
        "\n",
        "# produce hydrograph plots (diff lines)\n",
        "plt.plot(time_since_storm_start / 60.0, discharge, label=\"This run\")\n",
        "plt.plot(time_since_storm_start / 60.0, discharge_orig, label=\"Orig run\")\n",
        "plt.title(\"Discharge: \"+params_message)\n",
        "plt.legend()\n",
        "plt.xlabel(\"Time (min)\")\n",
        "plt.ylabel(\"Discharge (cms)\")\n",
        "plt.grid(True)"
      ],
      "metadata": {
        "id": "fCSPJ9BoBjkX"
      },
      "execution_count": null,
      "outputs": []
    },
    {
      "cell_type": "code",
      "source": [
        "# Code Block 14\n",
        "\n",
        "# Produce water depth plot (2x2; orig on top, new on bottom)\n",
        "fig = plt.figure()\n",
        "fig.tight_layout()\n",
        "fig.suptitle('Surface water depth: '+ params_message)\n",
        "fig.add_subplot(131)\n",
        "imshow_grid(grid, water_after_storm, plot_name=\"At end of storm\", cmap='Blues', vmax=0.75)\n",
        "fig.add_subplot(132)\n",
        "imshow_grid(grid, grid.at_node['surface_water__depth'], plot_name=\"At end of simulation\", cmap='Blues', vmax=0.75)\n",
        "fig.add_subplot(133)\n",
        "plt.subplots_adjust(right=1.75)\n",
        "imshow_grid(grid, grid.at_node['surface_water__depth']-water_after_storm, plot_name=\"Difference\", cmap='seismic', symmetric_cbar=True)\n"
      ],
      "metadata": {
        "id": "AmnutwMNBmRV"
      },
      "execution_count": null,
      "outputs": []
    }
  ]
}