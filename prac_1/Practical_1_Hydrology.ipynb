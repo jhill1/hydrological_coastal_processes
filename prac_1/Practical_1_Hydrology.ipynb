{
  "nbformat": 4,
  "nbformat_minor": 0,
  "metadata": {
    "colab": {
      "provenance": [],
      "authorship_tag": "ABX9TyP4iV58QQzbhSkrNA+obV0w",
      "include_colab_link": true
    },
    "kernelspec": {
      "name": "python3",
      "display_name": "Python 3"
    },
    "language_info": {
      "name": "python"
    }
  },
  "cells": [
    {
      "cell_type": "markdown",
      "metadata": {
        "id": "view-in-github",
        "colab_type": "text"
      },
      "source": [
        "<a href=\"https://colab.research.google.com/github/jhill1/hydrological_coastal_processes/blob/main/prac_1/Practical_1_Hydrology.ipynb\" target=\"_parent\"><img src=\"https://colab.research.google.com/assets/colab-badge.svg\" alt=\"Open In Colab\"/></a>"
      ]
    },
    {
      "cell_type": "markdown",
      "source": [
        "Practical 1: Hydrology\n",
        "\n",
        "Use LandLab to see what impact things like infiltration etc have on flow. This model doesn't simulate the flow in the river; just the run off during a heavy storm event. Forge Valley\n",
        "\n",
        "No infiltration is like having hard surfaces (tarmac) or baked soil (e.g. after a wildfire). Low infiltration acts like the soil is already getting to capacity.\n",
        "\n",
        "We'll look at the water discharge from the river as the surface water depth over the landscape.\n",
        "\n",
        "plot graphs, copy and paste into a google doc or similar for notes. Title gives the key parameters used.\n",
        "\n",
        "\n",
        "**What will you do and what is the point?**\n",
        "\n",
        "The idea of this practical is to think about how a river system goes back into equilibrium following some change in the system. This is what we've been covering in the lectures. We will create a steady-state system, then perturb it to see how and how long it takes to go back into equilibrium.\n",
        "\n",
        "In this exercise you will modify the code to alter rock uplift rates and patterns and the erodibility coefficient that controls fluvial channel form.\n",
        "\n",
        "Start at the top by reading each block of text and sequentially running each code block (click the little \"play\" symbol on the left of a block of code).\n",
        "\n",
        "If you just change one code block and rerun only that code block, only the parts of the code in that code block will be updated. For example, if you change parameters but don't reset the code blocks that initialize run time or topography, then these values will not be reset.\n",
        "\n",
        "**What to do..**\n",
        "\n",
        "Run each block of code once until you get to the text that says **stop here**. Then stop, and read the instrucitons carefullly! Make sure there are no errors. Ask for help if things don't work.\n"
      ],
      "metadata": {
        "id": "nfb298LmL448"
      }
    },
    {
      "cell_type": "code",
      "source": [
        "# this code install landlab and necessary things. You only need to do this once.\n",
        "!pip install landlab"
      ],
      "metadata": {
        "id": "VH_vzdNaMGpK",
        "colab": {
          "base_uri": "https://localhost:8080/"
        },
        "outputId": "74510831-044a-43a9-8980-e97d97e7e7bd"
      },
      "execution_count": 2,
      "outputs": [
        {
          "output_type": "stream",
          "name": "stdout",
          "text": [
            "Collecting landlab\n",
            "  Downloading landlab-2.6.0-cp310-cp310-manylinux_2_17_x86_64.manylinux2014_x86_64.whl (7.5 MB)\n",
            "\u001b[2K     \u001b[90m━━━━━━━━━━━━━━━━━━━━━━━━━━━━━━━━━━━━━━━━\u001b[0m \u001b[32m7.5/7.5 MB\u001b[0m \u001b[31m6.0 MB/s\u001b[0m eta \u001b[36m0:00:00\u001b[0m\n",
            "\u001b[?25hCollecting bmipy (from landlab)\n",
            "  Downloading bmipy-2.0.tar.gz (23 kB)\n",
            "  Preparing metadata (setup.py) ... \u001b[?25l\u001b[?25hdone\n",
            "Requirement already satisfied: matplotlib in /usr/local/lib/python3.10/dist-packages (from landlab) (3.7.1)\n",
            "Collecting netcdf4 (from landlab)\n",
            "  Downloading netCDF4-1.6.4-cp310-cp310-manylinux_2_17_x86_64.manylinux2014_x86_64.whl (5.4 MB)\n",
            "\u001b[2K     \u001b[90m━━━━━━━━━━━━━━━━━━━━━━━━━━━━━━━━━━━━━━━━\u001b[0m \u001b[32m5.4/5.4 MB\u001b[0m \u001b[31m50.5 MB/s\u001b[0m eta \u001b[36m0:00:00\u001b[0m\n",
            "\u001b[?25hRequirement already satisfied: numpy in /usr/local/lib/python3.10/dist-packages (from landlab) (1.23.5)\n",
            "Requirement already satisfied: pyyaml in /usr/local/lib/python3.10/dist-packages (from landlab) (6.0.1)\n",
            "Collecting pyshp!=2.3.0 (from landlab)\n",
            "  Downloading pyshp-2.3.1-py2.py3-none-any.whl (46 kB)\n",
            "\u001b[2K     \u001b[90m━━━━━━━━━━━━━━━━━━━━━━━━━━━━━━━━━━━━━━━━\u001b[0m \u001b[32m46.5/46.5 kB\u001b[0m \u001b[31m3.1 MB/s\u001b[0m eta \u001b[36m0:00:00\u001b[0m\n",
            "\u001b[?25hCollecting rich-click (from landlab)\n",
            "  Downloading rich_click-1.6.1-py3-none-any.whl (19 kB)\n",
            "Requirement already satisfied: scipy in /usr/local/lib/python3.10/dist-packages (from landlab) (1.10.1)\n",
            "Requirement already satisfied: statsmodels in /usr/local/lib/python3.10/dist-packages (from landlab) (0.14.0)\n",
            "Requirement already satisfied: pandas in /usr/local/lib/python3.10/dist-packages (from landlab) (1.5.3)\n",
            "Requirement already satisfied: xarray>=0.16 in /usr/local/lib/python3.10/dist-packages (from landlab) (2023.7.0)\n",
            "Requirement already satisfied: packaging>=21.3 in /usr/local/lib/python3.10/dist-packages (from xarray>=0.16->landlab) (23.1)\n",
            "Requirement already satisfied: python-dateutil>=2.8.1 in /usr/local/lib/python3.10/dist-packages (from pandas->landlab) (2.8.2)\n",
            "Requirement already satisfied: pytz>=2020.1 in /usr/local/lib/python3.10/dist-packages (from pandas->landlab) (2023.3)\n",
            "Collecting black (from bmipy->landlab)\n",
            "  Downloading black-23.7.0-cp310-cp310-manylinux_2_17_x86_64.manylinux2014_x86_64.whl (1.7 MB)\n",
            "\u001b[2K     \u001b[90m━━━━━━━━━━━━━━━━━━━━━━━━━━━━━━━━━━━━━━━━\u001b[0m \u001b[32m1.7/1.7 MB\u001b[0m \u001b[31m60.0 MB/s\u001b[0m eta \u001b[36m0:00:00\u001b[0m\n",
            "\u001b[?25hRequirement already satisfied: click in /usr/local/lib/python3.10/dist-packages (from bmipy->landlab) (8.1.6)\n",
            "Requirement already satisfied: jinja2 in /usr/local/lib/python3.10/dist-packages (from bmipy->landlab) (3.1.2)\n",
            "Requirement already satisfied: contourpy>=1.0.1 in /usr/local/lib/python3.10/dist-packages (from matplotlib->landlab) (1.1.0)\n",
            "Requirement already satisfied: cycler>=0.10 in /usr/local/lib/python3.10/dist-packages (from matplotlib->landlab) (0.11.0)\n",
            "Requirement already satisfied: fonttools>=4.22.0 in /usr/local/lib/python3.10/dist-packages (from matplotlib->landlab) (4.42.0)\n",
            "Requirement already satisfied: kiwisolver>=1.0.1 in /usr/local/lib/python3.10/dist-packages (from matplotlib->landlab) (1.4.4)\n",
            "Requirement already satisfied: pillow>=6.2.0 in /usr/local/lib/python3.10/dist-packages (from matplotlib->landlab) (9.4.0)\n",
            "Requirement already satisfied: pyparsing>=2.3.1 in /usr/local/lib/python3.10/dist-packages (from matplotlib->landlab) (3.1.1)\n",
            "Collecting cftime (from netcdf4->landlab)\n",
            "  Downloading cftime-1.6.2-cp310-cp310-manylinux_2_17_x86_64.manylinux2014_x86_64.whl (1.2 MB)\n",
            "\u001b[2K     \u001b[90m━━━━━━━━━━━━━━━━━━━━━━━━━━━━━━━━━━━━━━━━\u001b[0m \u001b[32m1.2/1.2 MB\u001b[0m \u001b[31m59.5 MB/s\u001b[0m eta \u001b[36m0:00:00\u001b[0m\n",
            "\u001b[?25hRequirement already satisfied: certifi in /usr/local/lib/python3.10/dist-packages (from netcdf4->landlab) (2023.7.22)\n",
            "Requirement already satisfied: rich>=10.7.0 in /usr/local/lib/python3.10/dist-packages (from rich-click->landlab) (13.5.2)\n",
            "Requirement already satisfied: patsy>=0.5.2 in /usr/local/lib/python3.10/dist-packages (from statsmodels->landlab) (0.5.3)\n",
            "Requirement already satisfied: six in /usr/local/lib/python3.10/dist-packages (from patsy>=0.5.2->statsmodels->landlab) (1.16.0)\n",
            "Requirement already satisfied: markdown-it-py>=2.2.0 in /usr/local/lib/python3.10/dist-packages (from rich>=10.7.0->rich-click->landlab) (3.0.0)\n",
            "Requirement already satisfied: pygments<3.0.0,>=2.13.0 in /usr/local/lib/python3.10/dist-packages (from rich>=10.7.0->rich-click->landlab) (2.16.1)\n",
            "Collecting mypy-extensions>=0.4.3 (from black->bmipy->landlab)\n",
            "  Downloading mypy_extensions-1.0.0-py3-none-any.whl (4.7 kB)\n",
            "Collecting pathspec>=0.9.0 (from black->bmipy->landlab)\n",
            "  Downloading pathspec-0.11.2-py3-none-any.whl (29 kB)\n",
            "Requirement already satisfied: platformdirs>=2 in /usr/local/lib/python3.10/dist-packages (from black->bmipy->landlab) (3.10.0)\n",
            "Requirement already satisfied: tomli>=1.1.0 in /usr/local/lib/python3.10/dist-packages (from black->bmipy->landlab) (2.0.1)\n",
            "Requirement already satisfied: MarkupSafe>=2.0 in /usr/local/lib/python3.10/dist-packages (from jinja2->bmipy->landlab) (2.1.3)\n",
            "Requirement already satisfied: mdurl~=0.1 in /usr/local/lib/python3.10/dist-packages (from markdown-it-py>=2.2.0->rich>=10.7.0->rich-click->landlab) (0.1.2)\n",
            "Building wheels for collected packages: bmipy\n",
            "  Building wheel for bmipy (setup.py) ... \u001b[?25l\u001b[?25hdone\n",
            "  Created wheel for bmipy: filename=bmipy-2.0-py3-none-any.whl size=7223 sha256=e756358bb96c17ee52c6df224e4a3e2991aa6666deff21ae4f2e576db6605251\n",
            "  Stored in directory: /root/.cache/pip/wheels/0e/57/6e/10a9cc7a74e618ab8d0c85dc08080b98dfe353af44ad85c7f6\n",
            "Successfully built bmipy\n",
            "Installing collected packages: pyshp, pathspec, mypy-extensions, cftime, netcdf4, black, rich-click, bmipy, landlab\n",
            "Successfully installed black-23.7.0 bmipy-2.0 cftime-1.6.2 landlab-2.6.0 mypy-extensions-1.0.0 netcdf4-1.6.4 pathspec-0.11.2 pyshp-2.3.1 rich-click-1.6.1\n"
          ]
        }
      ]
    },
    {
      "cell_type": "code",
      "execution_count": 3,
      "metadata": {
        "id": "1MKUXl83Kr5T"
      },
      "outputs": [],
      "source": [
        "# Code Block 1\n",
        "from landlab import RasterModelGrid, imshow_grid\n",
        "from landlab.components.overland_flow import LinearDiffusionOverlandFlowRouter\n",
        "from landlab.io import read_esri_ascii\n",
        "import numpy as np\n",
        "from matplotlib import pyplot as plt\n",
        "#below is to make plots show up in the notebook\n",
        "%matplotlib inline"
      ]
    },
    {
      "cell_type": "code",
      "source": [
        "# Code Block 2\n",
        "\n",
        "# We also need to upload our two DEM (digital Elevation Model) files (.asc).\n",
        "# Run this code and select the DEM file using the button that appears\n",
        "from google.colab import files\n",
        "uploaded = files.upload()"
      ],
      "metadata": {
        "id": "fyQjoAsNMrkt",
        "colab": {
          "base_uri": "https://localhost:8080/",
          "height": 377
        },
        "outputId": "4f196bf5-6b9a-43d9-ef5e-9997efde5759"
      },
      "execution_count": 4,
      "outputs": [
        {
          "output_type": "display_data",
          "data": {
            "text/plain": [
              "<IPython.core.display.HTML object>"
            ],
            "text/html": [
              "\n",
              "     <input type=\"file\" id=\"files-9fb7ebc9-bd29-4237-a24b-ac3e7b82d17f\" name=\"files[]\" multiple disabled\n",
              "        style=\"border:none\" />\n",
              "     <output id=\"result-9fb7ebc9-bd29-4237-a24b-ac3e7b82d17f\">\n",
              "      Upload widget is only available when the cell has been executed in the\n",
              "      current browser session. Please rerun this cell to enable.\n",
              "      </output>\n",
              "      <script>// Copyright 2017 Google LLC\n",
              "//\n",
              "// Licensed under the Apache License, Version 2.0 (the \"License\");\n",
              "// you may not use this file except in compliance with the License.\n",
              "// You may obtain a copy of the License at\n",
              "//\n",
              "//      http://www.apache.org/licenses/LICENSE-2.0\n",
              "//\n",
              "// Unless required by applicable law or agreed to in writing, software\n",
              "// distributed under the License is distributed on an \"AS IS\" BASIS,\n",
              "// WITHOUT WARRANTIES OR CONDITIONS OF ANY KIND, either express or implied.\n",
              "// See the License for the specific language governing permissions and\n",
              "// limitations under the License.\n",
              "\n",
              "/**\n",
              " * @fileoverview Helpers for google.colab Python module.\n",
              " */\n",
              "(function(scope) {\n",
              "function span(text, styleAttributes = {}) {\n",
              "  const element = document.createElement('span');\n",
              "  element.textContent = text;\n",
              "  for (const key of Object.keys(styleAttributes)) {\n",
              "    element.style[key] = styleAttributes[key];\n",
              "  }\n",
              "  return element;\n",
              "}\n",
              "\n",
              "// Max number of bytes which will be uploaded at a time.\n",
              "const MAX_PAYLOAD_SIZE = 100 * 1024;\n",
              "\n",
              "function _uploadFiles(inputId, outputId) {\n",
              "  const steps = uploadFilesStep(inputId, outputId);\n",
              "  const outputElement = document.getElementById(outputId);\n",
              "  // Cache steps on the outputElement to make it available for the next call\n",
              "  // to uploadFilesContinue from Python.\n",
              "  outputElement.steps = steps;\n",
              "\n",
              "  return _uploadFilesContinue(outputId);\n",
              "}\n",
              "\n",
              "// This is roughly an async generator (not supported in the browser yet),\n",
              "// where there are multiple asynchronous steps and the Python side is going\n",
              "// to poll for completion of each step.\n",
              "// This uses a Promise to block the python side on completion of each step,\n",
              "// then passes the result of the previous step as the input to the next step.\n",
              "function _uploadFilesContinue(outputId) {\n",
              "  const outputElement = document.getElementById(outputId);\n",
              "  const steps = outputElement.steps;\n",
              "\n",
              "  const next = steps.next(outputElement.lastPromiseValue);\n",
              "  return Promise.resolve(next.value.promise).then((value) => {\n",
              "    // Cache the last promise value to make it available to the next\n",
              "    // step of the generator.\n",
              "    outputElement.lastPromiseValue = value;\n",
              "    return next.value.response;\n",
              "  });\n",
              "}\n",
              "\n",
              "/**\n",
              " * Generator function which is called between each async step of the upload\n",
              " * process.\n",
              " * @param {string} inputId Element ID of the input file picker element.\n",
              " * @param {string} outputId Element ID of the output display.\n",
              " * @return {!Iterable<!Object>} Iterable of next steps.\n",
              " */\n",
              "function* uploadFilesStep(inputId, outputId) {\n",
              "  const inputElement = document.getElementById(inputId);\n",
              "  inputElement.disabled = false;\n",
              "\n",
              "  const outputElement = document.getElementById(outputId);\n",
              "  outputElement.innerHTML = '';\n",
              "\n",
              "  const pickedPromise = new Promise((resolve) => {\n",
              "    inputElement.addEventListener('change', (e) => {\n",
              "      resolve(e.target.files);\n",
              "    });\n",
              "  });\n",
              "\n",
              "  const cancel = document.createElement('button');\n",
              "  inputElement.parentElement.appendChild(cancel);\n",
              "  cancel.textContent = 'Cancel upload';\n",
              "  const cancelPromise = new Promise((resolve) => {\n",
              "    cancel.onclick = () => {\n",
              "      resolve(null);\n",
              "    };\n",
              "  });\n",
              "\n",
              "  // Wait for the user to pick the files.\n",
              "  const files = yield {\n",
              "    promise: Promise.race([pickedPromise, cancelPromise]),\n",
              "    response: {\n",
              "      action: 'starting',\n",
              "    }\n",
              "  };\n",
              "\n",
              "  cancel.remove();\n",
              "\n",
              "  // Disable the input element since further picks are not allowed.\n",
              "  inputElement.disabled = true;\n",
              "\n",
              "  if (!files) {\n",
              "    return {\n",
              "      response: {\n",
              "        action: 'complete',\n",
              "      }\n",
              "    };\n",
              "  }\n",
              "\n",
              "  for (const file of files) {\n",
              "    const li = document.createElement('li');\n",
              "    li.append(span(file.name, {fontWeight: 'bold'}));\n",
              "    li.append(span(\n",
              "        `(${file.type || 'n/a'}) - ${file.size} bytes, ` +\n",
              "        `last modified: ${\n",
              "            file.lastModifiedDate ? file.lastModifiedDate.toLocaleDateString() :\n",
              "                                    'n/a'} - `));\n",
              "    const percent = span('0% done');\n",
              "    li.appendChild(percent);\n",
              "\n",
              "    outputElement.appendChild(li);\n",
              "\n",
              "    const fileDataPromise = new Promise((resolve) => {\n",
              "      const reader = new FileReader();\n",
              "      reader.onload = (e) => {\n",
              "        resolve(e.target.result);\n",
              "      };\n",
              "      reader.readAsArrayBuffer(file);\n",
              "    });\n",
              "    // Wait for the data to be ready.\n",
              "    let fileData = yield {\n",
              "      promise: fileDataPromise,\n",
              "      response: {\n",
              "        action: 'continue',\n",
              "      }\n",
              "    };\n",
              "\n",
              "    // Use a chunked sending to avoid message size limits. See b/62115660.\n",
              "    let position = 0;\n",
              "    do {\n",
              "      const length = Math.min(fileData.byteLength - position, MAX_PAYLOAD_SIZE);\n",
              "      const chunk = new Uint8Array(fileData, position, length);\n",
              "      position += length;\n",
              "\n",
              "      const base64 = btoa(String.fromCharCode.apply(null, chunk));\n",
              "      yield {\n",
              "        response: {\n",
              "          action: 'append',\n",
              "          file: file.name,\n",
              "          data: base64,\n",
              "        },\n",
              "      };\n",
              "\n",
              "      let percentDone = fileData.byteLength === 0 ?\n",
              "          100 :\n",
              "          Math.round((position / fileData.byteLength) * 100);\n",
              "      percent.textContent = `${percentDone}% done`;\n",
              "\n",
              "    } while (position < fileData.byteLength);\n",
              "  }\n",
              "\n",
              "  // All done.\n",
              "  yield {\n",
              "    response: {\n",
              "      action: 'complete',\n",
              "    }\n",
              "  };\n",
              "}\n",
              "\n",
              "scope.google = scope.google || {};\n",
              "scope.google.colab = scope.google.colab || {};\n",
              "scope.google.colab._files = {\n",
              "  _uploadFiles,\n",
              "  _uploadFilesContinue,\n",
              "};\n",
              "})(self);\n",
              "</script> "
            ]
          },
          "metadata": {}
        },
        {
          "output_type": "error",
          "ename": "KeyboardInterrupt",
          "evalue": "ignored",
          "traceback": [
            "\u001b[0;31m---------------------------------------------------------------------------\u001b[0m",
            "\u001b[0;31mKeyboardInterrupt\u001b[0m                         Traceback (most recent call last)",
            "\u001b[0;32m<ipython-input-4-a307d1196724>\u001b[0m in \u001b[0;36m<cell line: 6>\u001b[0;34m()\u001b[0m\n\u001b[1;32m      4\u001b[0m \u001b[0;31m# Run this code and select the DEM file using the button that appears\u001b[0m\u001b[0;34m\u001b[0m\u001b[0;34m\u001b[0m\u001b[0m\n\u001b[1;32m      5\u001b[0m \u001b[0;32mfrom\u001b[0m \u001b[0mgoogle\u001b[0m\u001b[0;34m.\u001b[0m\u001b[0mcolab\u001b[0m \u001b[0;32mimport\u001b[0m \u001b[0mfiles\u001b[0m\u001b[0;34m\u001b[0m\u001b[0;34m\u001b[0m\u001b[0m\n\u001b[0;32m----> 6\u001b[0;31m \u001b[0muploaded\u001b[0m \u001b[0;34m=\u001b[0m \u001b[0mfiles\u001b[0m\u001b[0;34m.\u001b[0m\u001b[0mupload\u001b[0m\u001b[0;34m(\u001b[0m\u001b[0;34m)\u001b[0m\u001b[0;34m\u001b[0m\u001b[0;34m\u001b[0m\u001b[0m\n\u001b[0m",
            "\u001b[0;32m/usr/local/lib/python3.10/dist-packages/google/colab/files.py\u001b[0m in \u001b[0;36mupload\u001b[0;34m()\u001b[0m\n\u001b[1;32m     67\u001b[0m   \"\"\"\n\u001b[1;32m     68\u001b[0m \u001b[0;34m\u001b[0m\u001b[0m\n\u001b[0;32m---> 69\u001b[0;31m   \u001b[0muploaded_files\u001b[0m \u001b[0;34m=\u001b[0m \u001b[0m_upload_files\u001b[0m\u001b[0;34m(\u001b[0m\u001b[0mmultiple\u001b[0m\u001b[0;34m=\u001b[0m\u001b[0;32mTrue\u001b[0m\u001b[0;34m)\u001b[0m\u001b[0;34m\u001b[0m\u001b[0;34m\u001b[0m\u001b[0m\n\u001b[0m\u001b[1;32m     70\u001b[0m   \u001b[0;31m# Mapping from original filename to filename as saved locally.\u001b[0m\u001b[0;34m\u001b[0m\u001b[0;34m\u001b[0m\u001b[0m\n\u001b[1;32m     71\u001b[0m   \u001b[0mlocal_filenames\u001b[0m \u001b[0;34m=\u001b[0m \u001b[0mdict\u001b[0m\u001b[0;34m(\u001b[0m\u001b[0;34m)\u001b[0m\u001b[0;34m\u001b[0m\u001b[0;34m\u001b[0m\u001b[0m\n",
            "\u001b[0;32m/usr/local/lib/python3.10/dist-packages/google/colab/files.py\u001b[0m in \u001b[0;36m_upload_files\u001b[0;34m(multiple)\u001b[0m\n\u001b[1;32m    154\u001b[0m \u001b[0;34m\u001b[0m\u001b[0m\n\u001b[1;32m    155\u001b[0m   \u001b[0;31m# First result is always an indication that the file picker has completed.\u001b[0m\u001b[0;34m\u001b[0m\u001b[0;34m\u001b[0m\u001b[0m\n\u001b[0;32m--> 156\u001b[0;31m   result = _output.eval_js(\n\u001b[0m\u001b[1;32m    157\u001b[0m       'google.colab._files._uploadFiles(\"{input_id}\", \"{output_id}\")'.format(\n\u001b[1;32m    158\u001b[0m           \u001b[0minput_id\u001b[0m\u001b[0;34m=\u001b[0m\u001b[0minput_id\u001b[0m\u001b[0;34m,\u001b[0m \u001b[0moutput_id\u001b[0m\u001b[0;34m=\u001b[0m\u001b[0moutput_id\u001b[0m\u001b[0;34m\u001b[0m\u001b[0;34m\u001b[0m\u001b[0m\n",
            "\u001b[0;32m/usr/local/lib/python3.10/dist-packages/google/colab/output/_js.py\u001b[0m in \u001b[0;36meval_js\u001b[0;34m(script, ignore_result, timeout_sec)\u001b[0m\n\u001b[1;32m     38\u001b[0m   \u001b[0;32mif\u001b[0m \u001b[0mignore_result\u001b[0m\u001b[0;34m:\u001b[0m\u001b[0;34m\u001b[0m\u001b[0;34m\u001b[0m\u001b[0m\n\u001b[1;32m     39\u001b[0m     \u001b[0;32mreturn\u001b[0m\u001b[0;34m\u001b[0m\u001b[0;34m\u001b[0m\u001b[0m\n\u001b[0;32m---> 40\u001b[0;31m   \u001b[0;32mreturn\u001b[0m \u001b[0m_message\u001b[0m\u001b[0;34m.\u001b[0m\u001b[0mread_reply_from_input\u001b[0m\u001b[0;34m(\u001b[0m\u001b[0mrequest_id\u001b[0m\u001b[0;34m,\u001b[0m \u001b[0mtimeout_sec\u001b[0m\u001b[0;34m)\u001b[0m\u001b[0;34m\u001b[0m\u001b[0;34m\u001b[0m\u001b[0m\n\u001b[0m\u001b[1;32m     41\u001b[0m \u001b[0;34m\u001b[0m\u001b[0m\n\u001b[1;32m     42\u001b[0m \u001b[0;34m\u001b[0m\u001b[0m\n",
            "\u001b[0;32m/usr/local/lib/python3.10/dist-packages/google/colab/_message.py\u001b[0m in \u001b[0;36mread_reply_from_input\u001b[0;34m(message_id, timeout_sec)\u001b[0m\n\u001b[1;32m     94\u001b[0m     \u001b[0mreply\u001b[0m \u001b[0;34m=\u001b[0m \u001b[0m_read_next_input_message\u001b[0m\u001b[0;34m(\u001b[0m\u001b[0;34m)\u001b[0m\u001b[0;34m\u001b[0m\u001b[0;34m\u001b[0m\u001b[0m\n\u001b[1;32m     95\u001b[0m     \u001b[0;32mif\u001b[0m \u001b[0mreply\u001b[0m \u001b[0;34m==\u001b[0m \u001b[0m_NOT_READY\u001b[0m \u001b[0;32mor\u001b[0m \u001b[0;32mnot\u001b[0m \u001b[0misinstance\u001b[0m\u001b[0;34m(\u001b[0m\u001b[0mreply\u001b[0m\u001b[0;34m,\u001b[0m \u001b[0mdict\u001b[0m\u001b[0;34m)\u001b[0m\u001b[0;34m:\u001b[0m\u001b[0;34m\u001b[0m\u001b[0;34m\u001b[0m\u001b[0m\n\u001b[0;32m---> 96\u001b[0;31m       \u001b[0mtime\u001b[0m\u001b[0;34m.\u001b[0m\u001b[0msleep\u001b[0m\u001b[0;34m(\u001b[0m\u001b[0;36m0.025\u001b[0m\u001b[0;34m)\u001b[0m\u001b[0;34m\u001b[0m\u001b[0;34m\u001b[0m\u001b[0m\n\u001b[0m\u001b[1;32m     97\u001b[0m       \u001b[0;32mcontinue\u001b[0m\u001b[0;34m\u001b[0m\u001b[0;34m\u001b[0m\u001b[0m\n\u001b[1;32m     98\u001b[0m     if (\n",
            "\u001b[0;31mKeyboardInterrupt\u001b[0m: "
          ]
        }
      ]
    },
    {
      "cell_type": "code",
      "source": [
        "# Code Block 3\n",
        "\n",
        "(demgrid, demelev) = read_esri_ascii(\n",
        "    \"FV_10m_DEM_filled_sml.asc\", name=\"topographic__elevation\"\n",
        ")\n",
        "# Create Landlab model grid and assign the DEM elevations to it,\n",
        "# then display the terrain.\n",
        "# (note: DEM horizontal and vertical units are meters)\n",
        "grid = RasterModelGrid(\n",
        "    (demgrid.number_of_node_rows, demgrid.number_of_node_columns), xy_spacing=demgrid.dx\n",
        ")\n",
        "elev = grid.add_zeros(\"topographic__elevation\", at=\"node\")\n",
        "elev[:] = demelev\n",
        "imshow_grid(grid, elev, colorbar_label=\"Elevation (m)\")\n",
        "scaling = 3600*1000"
      ],
      "metadata": {
        "id": "uwfCjzlARE3T",
        "colab": {
          "base_uri": "https://localhost:8080/",
          "height": 367
        },
        "outputId": "f80e4495-74d3-46e8-af19-2a8cff107394"
      },
      "execution_count": 10,
      "outputs": [
        {
          "output_type": "error",
          "ename": "FileNotFoundError",
          "evalue": "ignored",
          "traceback": [
            "\u001b[0;31m---------------------------------------------------------------------------\u001b[0m",
            "\u001b[0;31mFileNotFoundError\u001b[0m                         Traceback (most recent call last)",
            "\u001b[0;32m<ipython-input-10-c420c4d2f1f4>\u001b[0m in \u001b[0;36m<cell line: 3>\u001b[0;34m()\u001b[0m\n\u001b[1;32m      1\u001b[0m \u001b[0;31m# Code Block 3\u001b[0m\u001b[0;34m\u001b[0m\u001b[0;34m\u001b[0m\u001b[0m\n\u001b[1;32m      2\u001b[0m \u001b[0;34m\u001b[0m\u001b[0m\n\u001b[0;32m----> 3\u001b[0;31m (demgrid, demelev) = read_esri_ascii(\n\u001b[0m\u001b[1;32m      4\u001b[0m     \u001b[0;34m\"FV_10m_DEM_filled_sml.asc\"\u001b[0m\u001b[0;34m,\u001b[0m \u001b[0mname\u001b[0m\u001b[0;34m=\u001b[0m\u001b[0;34m\"topographic__elevation\"\u001b[0m\u001b[0;34m\u001b[0m\u001b[0;34m\u001b[0m\u001b[0m\n\u001b[1;32m      5\u001b[0m )\n",
            "\u001b[0;32m/usr/local/lib/python3.10/dist-packages/landlab/io/esri_ascii.py\u001b[0m in \u001b[0;36mread_esri_ascii\u001b[0;34m(asc_file, grid, reshape, name, halo)\u001b[0m\n\u001b[1;32m    466\u001b[0m     \u001b[0;31m# _read_asc_header, and _read_asc_data\u001b[0m\u001b[0;34m\u001b[0m\u001b[0;34m\u001b[0m\u001b[0m\n\u001b[1;32m    467\u001b[0m     \u001b[0;32mif\u001b[0m \u001b[0misinstance\u001b[0m\u001b[0;34m(\u001b[0m\u001b[0masc_file\u001b[0m\u001b[0;34m,\u001b[0m \u001b[0;34m(\u001b[0m\u001b[0mstr\u001b[0m\u001b[0;34m,\u001b[0m \u001b[0mpathlib\u001b[0m\u001b[0;34m.\u001b[0m\u001b[0mPath\u001b[0m\u001b[0;34m)\u001b[0m\u001b[0;34m)\u001b[0m\u001b[0;34m:\u001b[0m\u001b[0;34m\u001b[0m\u001b[0;34m\u001b[0m\u001b[0m\n\u001b[0;32m--> 468\u001b[0;31m         \u001b[0;32mwith\u001b[0m \u001b[0mopen\u001b[0m\u001b[0;34m(\u001b[0m\u001b[0masc_file\u001b[0m\u001b[0;34m)\u001b[0m \u001b[0;32mas\u001b[0m \u001b[0mf\u001b[0m\u001b[0;34m:\u001b[0m\u001b[0;34m\u001b[0m\u001b[0;34m\u001b[0m\u001b[0m\n\u001b[0m\u001b[1;32m    469\u001b[0m             \u001b[0mheader\u001b[0m \u001b[0;34m=\u001b[0m \u001b[0mread_asc_header\u001b[0m\u001b[0;34m(\u001b[0m\u001b[0mf\u001b[0m\u001b[0;34m)\u001b[0m\u001b[0;34m\u001b[0m\u001b[0;34m\u001b[0m\u001b[0m\n\u001b[1;32m    470\u001b[0m             \u001b[0mdata\u001b[0m \u001b[0;34m=\u001b[0m \u001b[0m_read_asc_data\u001b[0m\u001b[0;34m(\u001b[0m\u001b[0mf\u001b[0m\u001b[0;34m)\u001b[0m\u001b[0;34m\u001b[0m\u001b[0;34m\u001b[0m\u001b[0m\n",
            "\u001b[0;31mFileNotFoundError\u001b[0m: [Errno 2] No such file or directory: 'FV_10m_DEM_filled_sml.asc'"
          ]
        }
      ]
    },
    {
      "cell_type": "code",
      "source": [
        "# Code Block 4\n",
        "\n",
        "# Process parameters\n",
        "n = 0.025  # roughness coefficient, (s/m^(1/3))\n",
        "uc = 1.0  # characteristic velocity scale (m/s)\n",
        "R1 = 72.0 # Initial rainfall (storm event) mm/hr\n",
        "R2 = 0.0  # Rainfall after event mm/hr\n",
        "infilt_cap = 0  # infiltration capacity, mm/hr\n",
        "\n",
        "# scale parameters to m/s\n",
        "R1 = R1 / scaling\n",
        "R2 = R2 / scaling\n",
        "infilt_cap = infilt_cap / scaling\n",
        "\n",
        "# Run-control parameters\n",
        "heavy_rain_duration = 300.0  # duration of heavy rainfall, s\n",
        "run_time = 3600.0  # duration of run, s\n",
        "dt = 10.0  # time-step size, s\n",
        "\n",
        "# Derived parameters\n",
        "num_steps = int(run_time / dt)\n",
        "\n",
        "# set up arrays to hold discharge, time, and rain rate\n",
        "time_since_storm_start = np.linspace(0.0, run_time, num_steps + 1)\n",
        "discharge = np.zeros(num_steps + 1)\n",
        "rain_rate = np.zeros(num_steps + 1)\n",
        "rain_rate[:] = R1\n",
        "rain_rate[time_since_storm_start >= heavy_rain_duration] = R2\n",
        "\n",
        "# plot the rainfall\n",
        "plt.plot(time_since_storm_start / 60.0, rain_rate * scaling)\n",
        "plt.xlabel(\"Time (min)\")\n",
        "plt.ylabel(\"Rainfall (mm/hr)\")\n",
        "plt.grid(True)\n",
        "\n",
        "params_message = \"R1: {r1}, R2: {r2}, Infiltration: {ic}, n: {n}\".format(r1=R1*scaling, r2=R2*scaling, ic=infilt_cap*scaling, n=n)"
      ],
      "metadata": {
        "id": "iCC8xdEqbXBT",
        "colab": {
          "base_uri": "https://localhost:8080/",
          "height": 246
        },
        "outputId": "5253a6dd-b666-414b-9679-781ea4a5fc3f"
      },
      "execution_count": 9,
      "outputs": [
        {
          "output_type": "error",
          "ename": "NameError",
          "evalue": "ignored",
          "traceback": [
            "\u001b[0;31m---------------------------------------------------------------------------\u001b[0m",
            "\u001b[0;31mNameError\u001b[0m                                 Traceback (most recent call last)",
            "\u001b[0;32m<ipython-input-9-b31099876f47>\u001b[0m in \u001b[0;36m<cell line: 11>\u001b[0;34m()\u001b[0m\n\u001b[1;32m      9\u001b[0m \u001b[0;34m\u001b[0m\u001b[0m\n\u001b[1;32m     10\u001b[0m \u001b[0;31m# scale parameters to m/s\u001b[0m\u001b[0;34m\u001b[0m\u001b[0;34m\u001b[0m\u001b[0m\n\u001b[0;32m---> 11\u001b[0;31m \u001b[0mR1\u001b[0m \u001b[0;34m=\u001b[0m \u001b[0mR1\u001b[0m \u001b[0;34m/\u001b[0m \u001b[0mscaling\u001b[0m\u001b[0;34m\u001b[0m\u001b[0;34m\u001b[0m\u001b[0m\n\u001b[0m\u001b[1;32m     12\u001b[0m \u001b[0mR2\u001b[0m \u001b[0;34m=\u001b[0m \u001b[0mR2\u001b[0m \u001b[0;34m/\u001b[0m \u001b[0mscaling\u001b[0m\u001b[0;34m\u001b[0m\u001b[0;34m\u001b[0m\u001b[0m\n\u001b[1;32m     13\u001b[0m \u001b[0minfilt_cap\u001b[0m \u001b[0;34m=\u001b[0m \u001b[0minfilt_cap\u001b[0m \u001b[0;34m/\u001b[0m \u001b[0mscaling\u001b[0m\u001b[0;34m\u001b[0m\u001b[0;34m\u001b[0m\u001b[0m\n",
            "\u001b[0;31mNameError\u001b[0m: name 'scaling' is not defined"
          ]
        }
      ]
    },
    {
      "cell_type": "code",
      "source": [
        "# Code Block 5\n",
        "\n",
        "# Configure the boundaries: valid bottom-edge nodes will be open;\n",
        "grid.status_at_node[grid.nodes_at_bottom_edge] = grid.BC_NODE_IS_FIXED_VALUE\n",
        "grid.status_at_node[np.isclose(elev, -9999.0)] = grid.BC_NODE_IS_CLOSED\n",
        "indices = np.where(elev[grid.nodes_at_bottom_edge] > 0.0)[0]\n",
        "outlet_nodes = grid.nodes_at_bottom_edge[indices]\n",
        "links_at_outlets = grid.links_at_node[outlet_nodes]\n",
        "links_to_track = links_at_outlets[\n",
        "    grid.status_at_link[links_at_outlets] == grid.BC_LINK_IS_ACTIVE\n",
        "].flatten()"
      ],
      "metadata": {
        "id": "-mcsV55gbuVl"
      },
      "execution_count": null,
      "outputs": []
    },
    {
      "cell_type": "code",
      "source": [
        "# Code Block 6\n",
        "\n",
        "# Instantiate the component\n",
        "olflow = LinearDiffusionOverlandFlowRouter(\n",
        "    grid, rain_rate=R1, infilt_rate=infilt_cap, roughness=n, velocity_scale=1.0, cfl_factor = 0.75\n",
        ")\n"
      ],
      "metadata": {
        "id": "u3tKlyXgb169"
      },
      "execution_count": null,
      "outputs": []
    },
    {
      "cell_type": "code",
      "source": [
        "# Code Block 7\n",
        "\n",
        "# clear everything and start running the simulation.\n",
        "q = grid.at_link[\"water__specific_discharge\"]\n",
        "grid.at_node[\"surface_water__depth\"][:] =  0.0\n",
        "water_after_storm = grid.at_node[\"surface_water__depth\"]\n",
        "\n",
        "for i in range(num_steps):\n",
        "    t = i * dt\n",
        "    print(\"Time: \", t)\n",
        "    olflow.rain_rate = rain_rate[i]\n",
        "    olflow.run_one_step(dt)\n",
        "    discharge[i + 1] = np.sum(np.abs(q[links_to_track])) * grid.dx\n",
        "    if (t < heavy_rain_duration):\n",
        "      water_after_storm =  np.copy(grid.at_node['surface_water__depth'])"
      ],
      "metadata": {
        "id": "XwSk2RPzca2N"
      },
      "execution_count": null,
      "outputs": []
    },
    {
      "cell_type": "code",
      "source": [
        "# Code Block 8\n",
        "\n",
        "plt.plot(time_since_storm_start / 60.0, discharge)\n",
        "plt.title(\"Discharge: \"+params_message)\n",
        "plt.xlabel(\"Time (min)\")\n",
        "plt.ylabel(\"Discharge (cms)\")\n",
        "plt.grid(True)"
      ],
      "metadata": {
        "id": "oflQQvKUcmsG",
        "colab": {
          "base_uri": "https://localhost:8080/",
          "height": 472
        },
        "outputId": "a2901fa2-ad16-42ea-8ca7-340380531768"
      },
      "execution_count": 8,
      "outputs": [
        {
          "output_type": "display_data",
          "data": {
            "text/plain": [
              "<Figure size 640x480 with 1 Axes>"
            ],
            "image/png": "[encoded data removed]"
          },
          "metadata": {}
        }
      ]
    },
    {
      "cell_type": "code",
      "source": [
        "# Code Block 9\n",
        "\n",
        "fig = plt.figure()\n",
        "fig.tight_layout()\n",
        "fig.suptitle('Surface water depth')\n",
        "fig.add_subplot(131)\n",
        "imshow_grid(grid, water_after_storm, plot_name=\"At end of storm\", cmap='Blues', vmax=0.75)\n",
        "fig.add_subplot(132)\n",
        "imshow_grid(grid, grid.at_node['surface_water__depth'], plot_name=\"At end of simulation\", cmap='Blues', vmax=0.75)\n",
        "fig.add_subplot(133)\n",
        "plt.subplots_adjust(right=1.75)\n",
        "imshow_grid(grid, grid.at_node['surface_water__depth']-water_after_storm, plot_name=\"Difference\", cmap='seismic', symmetric_cbar=True)\n",
        "\n"
      ],
      "metadata": {
        "id": "tAgGfDzsBtSA"
      },
      "execution_count": null,
      "outputs": []
    },
    {
      "cell_type": "code",
      "source": [
        "# Code Block 10\n",
        "\n",
        "# store everything for comparison later\n",
        "water_after_storm_orig = water_after_storm\n",
        "water_after_hour = np.copy(grid.at_node['surface_water__depth'])\n",
        "discharge_orig = discharge"
      ],
      "metadata": {
        "id": "Q4bZ5nfoBMFC"
      },
      "execution_count": null,
      "outputs": []
    },
    {
      "cell_type": "markdown",
      "source": [
        "**STOP HERE**\n",
        "\n",
        "At this point you have a simulation that takes the basic DEM (topographic data) and simulates a heavy rainfall for 300 seconds (5 minutes) and then no rain to the end of the simulation (1 hour).\n",
        "\n",
        "The simulation siomulates the flow of water overland, but we haven't added an infiltration into the soil (i.e. the land is completely impermeable). We also have a very low drag coefficient (equivalent to \"clean sand\" everywhere). For those on the rivers field trip a few weeks ago, does this sound realsitic?\n",
        "\n",
        "Have a think about these questions and write down some answers:\n",
        "\n",
        "1. Will the amount of surface water and discharge increase or decrease when infiltration rate is added to the model?\n",
        "2. If the drag coefficient (Manning's) is increased, will that increase the discharge. How does increasing the drag coefficient interact with increased infilatration rate?\n",
        "3. How do we change the drag coefficient and infiltration rate in reality? How does this effect management of catchments?\n",
        "\n",
        "Now edit things:\n",
        "* mannings (Original value: 0.025. Try 0.1 and 0.01)\n",
        "* infiltration rate (Original value: 0. Try 10, 30 mm/hr)\n",
        "* storm intensity (72 mm/hr. Try 10 and 30 mm/hr)\n",
        "* storm length (300 s, try 1200 and 900)\n",
        "\n",
        "NOTE: For the rest of the questions you should use Code Blocks 13-19. These will allow you to use the steady-state landscape created for question 1 - referred to here as the 'base landscape' - as the initial condition. Run Code block 13, which creates copies of that initial landscape. Then start by editing what you need to in Code Blocks 14 - 16. Run these each once, sequentially. You can run Code Block 16, the time loop, as many times as you need to, along with Code Blocks 17-19, which produce plots.\n",
        "\n",
        "For each question, re-run code block 13 to get back to that initial landscape. If it all goes wrong, start from code block 2, but you can edit the  tmax  parameter to get to steady state in one click...\n",
        "\n",
        "Part 2. Transient landscape responding to an increase in rock uplift.\n",
        "\n",
        "Use the base landscape and increase rock uplift uniformly by a factor of 4 to 0.0004 m/yr. Make sure you update the rock uplift rate (Code Block 15) and ensure that  tmax  is 1e5 yrs and  dt  is 500 yrs (Code Block 14). Run this until the maximum elevation in the grid is ~ 250 m and observe how the landscape gets to this elevation, i.e. plot intermediate steps. What patterns do you see in the supporting plots that illustrate this type of transient? What aspects of the landscape have changed in comparison with the base landscape from question 1?\n",
        "\n",
        "Part 3. Increase erodibility. Start again from the base landscape (i.e. re-run code block 13), but this time increase  Ksp  to 2E-5 (Code Block 13). Make sure rock uplift rate is set to the original value of 0.0001 m/yr (Code Block 15). Set  tmax  to 1e5 yrs (Code Block 14). Run for 1e5 yrs and save the plots that you think are diagnostic. Run for another 1e5 yrs and save plots again. Now run for 5e5 yrs and save plots again. Quantitatively describe how the landscape evolves in response to the increase in erodibility and provide supporting plots. What could cause a uniform increase in erodibility?\n",
        "\n",
        "Part 4. Spatially varible uplift - discrete, massive earthquake. Start again from the base landscape (Code Block 13), and make sure that  Ksp  = 1E-5. Now add a seismic event to this steady state landscape - a fault that runs horizontally across the landscape at y = 4000 m, and instantaneously uplifts half the landscape by 10 meters (Code Block 15 - uncomment the five lines in the first IMPORTANT comment block). In this case, we will keep background uplift uniform at 0.0001 m/yr. Set  tmax  to 1e5 yrs and  dt  to 500 yrs (Code Block 15) before evolving the landscape after the fault. Now run the time loop four times and look at the different plots after each loop. How does the landscape respond to this fault? What patterns do you see in the supporting plots that illustrate this type of transient? Which patterns, if any, are diagnostic of a channel response to an earthquake?\n",
        "\n",
        "Part 5. Final Reflection. Was your initial insight into how parameters would effect the landscape correct?\n",
        "\n",
        "Feel free to play around some more. How might uplift rate increase and erodibility change play out if they happen at the same time? How might we differentiate between these things happening? Code block 15 also has different uplift functions (differential uplift along a fault and whole landscape differential uplift)"
      ],
      "metadata": {
        "id": "jub_hCPGBP0Z"
      }
    },
    {
      "cell_type": "code",
      "source": [
        "\n",
        "\n",
        "# Process parameters\n",
        "n = 0.025  # roughness coefficient, (s/m^(1/3))\n",
        "uc = 1.0  # characteristic velocity scale (m/s)\n",
        "R1 = 72.0 / (3600.0 * 1000.0)  # initial rainfall rate, m/s (converted from mm/hr)\n",
        "R2 = 5.0 / (3600.0 * 1000.0)  # later rainfall rate, m/s (converted from mm/hr)\n",
        "infilt_cap = 10.0 / (3600 * 1000.0)  # infiltration capacity, m/s (converted from mm/hr)\n",
        "\n",
        "# convert unit (divide by 3600*1000)\n",
        "\n",
        "# Run-control parameters\n",
        "heavy_rain_duration = 300.0  # duration of heavy rainfall, s\n",
        "run_time = 3600.0  # duration of run, s\n",
        "dt = 10.0  # time-step size, s\n",
        "\n",
        "# Derived parameters\n",
        "num_steps = int(run_time / dt)\n",
        "\n",
        "# set up arrays to hold discharge, time, and rain rate\n",
        "time_since_storm_start = np.linspace(0.0, run_time, num_steps + 1)\n",
        "discharge = np.zeros(num_steps + 1)\n",
        "rain_rate = np.zeros(num_steps + 1)\n",
        "rain_rate[:] = R1\n",
        "rain_rate[time_since_storm_start >= heavy_rain_duration] = R2\n",
        "\n",
        "# Instantiate the component\n",
        "olflow = LinearDiffusionOverlandFlowRouter(\n",
        "    grid, rain_rate=R1, infilt_rate=infilt_cap, roughness=n, velocity_scale=1.0, cfl_factor = 0.75\n",
        ")\n"
      ],
      "metadata": {
        "id": "kgxZ70Q1BacK"
      },
      "execution_count": null,
      "outputs": []
    },
    {
      "cell_type": "code",
      "source": [
        "# run sim block\n",
        "q = grid.at_link[\"water__specific_discharge\"]\n",
        "grid.at_node[\"surface_water__depth\"][:] =  0.0\n",
        "water_after_storm = grid.at_node[\"surface_water__depth\"]\n",
        "\n",
        "for i in range(num_steps):\n",
        "    t = i * dt\n",
        "    print(\"Time: \", t)\n",
        "    olflow.rain_rate = rain_rate[i]\n",
        "    olflow.run_one_step(dt)\n",
        "    discharge[i + 1] = np.sum(np.abs(q[links_to_track])) * grid.dx\n",
        "    if (t < heavy_rain_duration):\n",
        "      water_after_storm =  np.copy(grid.at_node['surface_water__depth'])"
      ],
      "metadata": {
        "id": "Kq0TSmXmBiO3"
      },
      "execution_count": null,
      "outputs": []
    },
    {
      "cell_type": "code",
      "source": [
        "# produce hydrograph plots (diff lines)\n",
        "plt.plot(time_since_storm_start / 60.0, discharge, label=\"This run\")\n",
        "plt.plot(time_since_storm_start / 60.0, discharge_orig, label=\"Orig run\")\n",
        "plt.legend()\n",
        "plt.xlabel(\"Time (min)\")\n",
        "plt.ylabel(\"Discharge (cms)\")\n",
        "plt.grid(True)"
      ],
      "metadata": {
        "id": "fCSPJ9BoBjkX"
      },
      "execution_count": null,
      "outputs": []
    },
    {
      "cell_type": "code",
      "source": [
        "# Produce water depth plot (2x2; orig on top, new on bottom)\n",
        "fig = plt.figure()\n",
        "fig.tight_layout()\n",
        "fig.suptitle('Surface water depth')\n",
        "fig.add_subplot(131)\n",
        "imshow_grid(grid, water_after_storm, plot_name=\"At end of storm\", cmap='Blues', vmax=0.75)\n",
        "fig.add_subplot(132)\n",
        "imshow_grid(grid, grid.at_node['surface_water__depth'], plot_name=\"At end of simulation\", cmap='Blues', vmax=0.75)\n",
        "fig.add_subplot(133)\n",
        "plt.subplots_adjust(right=1.75)\n",
        "imshow_grid(grid, grid.at_node['surface_water__depth']-water_after_storm, plot_name=\"Difference\", cmap='seismic', symmetric_cbar=True)\n"
      ],
      "metadata": {
        "id": "AmnutwMNBmRV"
      },
      "execution_count": null,
      "outputs": []
    }
  ]
}